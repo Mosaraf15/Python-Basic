{
 "cells": [
  {
   "cell_type": "code",
   "execution_count": 1,
   "metadata": {},
   "outputs": [],
   "source": [
    "#  How to input list \n"
   ]
  },
  {
   "cell_type": "code",
   "execution_count": 10,
   "metadata": {},
   "outputs": [
    {
     "name": "stdout",
     "output_type": "stream",
     "text": [
      "Enter the list of temperature  : \n",
      "45 6 4 3 44 5\n",
      "temp_c &  temp_F \n",
      " [45, 6, 4, 3, 44, 5] [81.0, 10.8, 7.2, 5.4, 79.2, 9.0]\n"
     ]
    }
   ],
   "source": [
    "print ('Enter the list of temperature  : ')\n",
    "\n",
    "temp_c = [int(x) for x in input().split()]\n",
    "\n",
    "temp_F = [(9/5*i) for i in temp_c]\n",
    "\n",
    "print ('temp_c &  temp_F \\n', temp_c ,temp_F  )"
   ]
  },
  {
   "cell_type": "code",
   "execution_count": 11,
   "metadata": {},
   "outputs": [],
   "source": [
    "#\n",
    "\n",
    "# Password Generator..................\n",
    "\n"
   ]
  },
  {
   "cell_type": "code",
   "execution_count": 19,
   "metadata": {},
   "outputs": [
    {
     "name": "stdout",
     "output_type": "stream",
     "text": [
      "0123456789\n",
      "abcdefghijklmnopqrstuvwxyzABCDEFGHIJKLMNOPQRSTUVWXYZ\n",
      "!\"#$%&'()*+,-./:;<=>?@[\\]^_`{|}~\n"
     ]
    }
   ],
   "source": [
    "import string \n",
    "import random\n",
    "\n",
    "print(string.digits )\n",
    "print(string.ascii_letters)\n",
    "print(string.punctuation)"
   ]
  },
  {
   "cell_type": "code",
   "execution_count": 13,
   "metadata": {},
   "outputs": [],
   "source": []
  },
  {
   "cell_type": "code",
   "execution_count": 22,
   "metadata": {},
   "outputs": [
    {
     "name": "stdout",
     "output_type": "stream",
     "text": [
      "0123456789abcdefghijklmnopqrstuvwxyzABCDEFGHIJKLMNOPQRSTUVWXYZ!\"#$%&'()*+,-./:;<=>?@[\\]^_`{|}~\n"
     ]
    },
    {
     "data": {
      "text/plain": [
       "str"
      ]
     },
     "execution_count": 22,
     "metadata": {},
     "output_type": "execute_result"
    }
   ],
   "source": [
    "import string \n",
    "import random\n",
    "\n",
    "\n",
    "string.digits \n",
    "string.ascii_letters\n",
    "string.punctuation\n",
    "\n",
    "char = string.digits + string.ascii_letters + string.punctuation\n",
    "\n",
    "print (char)\n",
    "type (char)\n"
   ]
  },
  {
   "cell_type": "code",
   "execution_count": null,
   "metadata": {},
   "outputs": [],
   "source": []
  },
  {
   "cell_type": "code",
   "execution_count": 26,
   "metadata": {},
   "outputs": [
    {
     "name": "stdout",
     "output_type": "stream",
     "text": [
      " Enter the requre length of password = 8\n",
      "JABFitU0\n"
     ]
    }
   ],
   "source": [
    "import string \n",
    "import random\n",
    "\n",
    "\n",
    "string.digits \n",
    "string.ascii_letters\n",
    "string.punctuation\n",
    "\n",
    "length = int (input (' Enter the requre length of password = '))\n",
    "\n",
    "\n",
    "char = string.digits + string.ascii_letters + string.punctuation\n",
    "\n",
    "password = ''                #  creat a empty string  \n",
    "\n",
    "for i in range(0,length):\n",
    "    password = password + random.choice(char)    # generate  rendom string use random.choice()\n",
    "    \n",
    "print (password)\n"
   ]
  },
  {
   "cell_type": "code",
   "execution_count": null,
   "metadata": {},
   "outputs": [],
   "source": []
  },
  {
   "cell_type": "code",
   "execution_count": null,
   "metadata": {},
   "outputs": [],
   "source": []
  }
 ],
 "metadata": {
  "kernelspec": {
   "display_name": "Python 3",
   "language": "python",
   "name": "python3"
  },
  "language_info": {
   "codemirror_mode": {
    "name": "ipython",
    "version": 3
   },
   "file_extension": ".py",
   "mimetype": "text/x-python",
   "name": "python",
   "nbconvert_exporter": "python",
   "pygments_lexer": "ipython3",
   "version": "3.7.7"
  }
 },
 "nbformat": 4,
 "nbformat_minor": 4
}
