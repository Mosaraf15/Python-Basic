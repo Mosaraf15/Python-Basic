{
 "cells": [
  {
   "cell_type": "code",
   "execution_count": 1,
   "metadata": {},
   "outputs": [
    {
     "name": "stdout",
     "output_type": "stream",
     "text": [
      "True\n",
      "False\n"
     ]
    }
   ],
   "source": [
    "stu = ['shafeul', 'fahim','amraan','aly','labib']\n",
    "\n",
    "print('labib' in stu)\n",
    "print('johan'  in stu)"
   ]
  },
  {
   "cell_type": "code",
   "execution_count": 3,
   "metadata": {},
   "outputs": [
    {
     "name": "stdout",
     "output_type": "stream",
     "text": [
      "yes , He is studies here \n",
      "NO , He dosent studies here \n"
     ]
    }
   ],
   "source": [
    "if 'shafeul' in stu :\n",
    "    print('yes , He is studies here ')\n",
    "else : print('NO , He dosent studies here ')\n",
    "\n",
    "if 'johan'  in stu:\n",
    "    print ('yes , He is studies here ')\n",
    "else: print('NO , He dosent studies here ')"
   ]
  },
  {
   "cell_type": "code",
   "execution_count": 4,
   "metadata": {},
   "outputs": [],
   "source": [
    "# by the way : this also works for string"
   ]
  },
  {
   "cell_type": "code",
   "execution_count": 5,
   "metadata": {},
   "outputs": [
    {
     "name": "stdout",
     "output_type": "stream",
     "text": [
      "YES\n"
     ]
    }
   ],
   "source": [
    "\n",
    "sent = 'yes , He is studies here '\n",
    "\n",
    "if 'is' in sent: print ('YES')\n",
    "else: print (\"NO\")"
   ]
  },
  {
   "cell_type": "code",
   "execution_count": 6,
   "metadata": {},
   "outputs": [],
   "source": [
    "\n",
    "\n",
    "# MEMBERSHIP operator  .......................\n",
    "\n",
    "\n",
    "#   not   OPERATOR"
   ]
  },
  {
   "cell_type": "code",
   "execution_count": 8,
   "metadata": {},
   "outputs": [
    {
     "name": "stdout",
     "output_type": "stream",
     "text": [
      "executed\n",
      "executed\n"
     ]
    }
   ],
   "source": [
    "age = 25\n",
    "\n",
    "if not age>=30: print ('executed')\n",
    "\n",
    "if  age<30: print ('executed')"
   ]
  },
  {
   "cell_type": "code",
   "execution_count": 9,
   "metadata": {},
   "outputs": [],
   "source": [
    "\n",
    "# (  not in )..................operator\n"
   ]
  },
  {
   "cell_type": "code",
   "execution_count": 10,
   "metadata": {},
   "outputs": [
    {
     "name": "stdout",
     "output_type": "stream",
     "text": [
      " He is in list\n"
     ]
    }
   ],
   "source": [
    "stu = ['shafeul', 'fahim','amraan','aly','labib']\n",
    "\n",
    "if 'amraan' not in stu: \n",
    "    print (' He is not in list ')\n",
    "else: print(' He is in list')"
   ]
  },
  {
   "cell_type": "code",
   "execution_count": 11,
   "metadata": {},
   "outputs": [
    {
     "name": "stdout",
     "output_type": "stream",
     "text": [
      " He is in list\n"
     ]
    }
   ],
   "source": [
    "if not 'amraan'in stu: \n",
    "    print (' He is not in list ')\n",
    "else: print(' He is in list')"
   ]
  },
  {
   "cell_type": "code",
   "execution_count": 12,
   "metadata": {},
   "outputs": [
    {
     "name": "stdout",
     "output_type": "stream",
     "text": [
      " Its TRUE\n"
     ]
    }
   ],
   "source": [
    "if True and not(False):\n",
    "    print (' Its TRUE')"
   ]
  },
  {
   "cell_type": "code",
   "execution_count": 13,
   "metadata": {},
   "outputs": [
    {
     "name": "stdout",
     "output_type": "stream",
     "text": [
      " Its TRUE\n"
     ]
    }
   ],
   "source": [
    "if True or not(False):\n",
    "    print (' Its TRUE')"
   ]
  },
  {
   "cell_type": "code",
   "execution_count": 32,
   "metadata": {
    "scrolled": true
   },
   "outputs": [
    {
     "name": "stdout",
     "output_type": "stream",
     "text": [
      " Enter your ID = ET171055\n",
      " EEE depertment ................\n",
      " Enter your passward : 123456\n",
      " Md. Mosharaf Hossain Khan  \n"
     ]
    }
   ],
   "source": [
    "ID = input(' Enter your ID = ')\n",
    "\n",
    "\n",
    "if 'ET' in ID:\n",
    "    print (' EEE depertment ................')\n",
    "    passward = input(' Enter your passward : ')\n",
    "    \n",
    "if '123456' in passward and ID == 'ET171055':\n",
    "    print (' Md. Mosharaf Hossain Khan  ')\n",
    "else : print (' incurrate passward  ********')\n",
    "    \n",
    "\n",
    "    "
   ]
  },
  {
   "cell_type": "code",
   "execution_count": 33,
   "metadata": {},
   "outputs": [
    {
     "name": "stdout",
     "output_type": "stream",
     "text": [
      " Enter your ID = ET171055\n",
      " EEE depertment ................\n",
      " Enter your passward : 123456\n",
      " Md. Mosharaf Hossain Khan  \n"
     ]
    }
   ],
   "source": [
    "ID = input(' Enter your ID = ')\n",
    "\n",
    "\n",
    "if 'ET' in ID:\n",
    "    print (' EEE depertment ................')\n",
    "    passward = input(' Enter your passward : ')\n",
    "    \n",
    "if '123456' in passward and 'ET171055' in ID:\n",
    "    print (' Md. Mosharaf Hossain Khan  ')\n",
    "else : print (' incurrate passward  ********')"
   ]
  },
  {
   "cell_type": "code",
   "execution_count": 36,
   "metadata": {},
   "outputs": [],
   "source": [
    "\n",
    "# EXERCISES QUESTION........................\n",
    "#  IMPORTENT ................. Inforemation  herE\n",
    "\n"
   ]
  },
  {
   "cell_type": "code",
   "execution_count": 37,
   "metadata": {},
   "outputs": [],
   "source": [
    "#  Write a code that takes a NUMBER  from user and compare it to a RENDOMLY \n",
    "#   GENERATED value . And states that which one is LARGER / SMALLER\n",
    "\n",
    "\n",
    "#  here we IMPORT      ..... (random)  builtin function \n",
    "\n",
    "#    import random\n",
    "#    comp = random.randint(1,200)...............any 2 number \n",
    "\n",
    "#  ONE importent INFORMATION is    use   print (' nunber is {}'.format(variable))\n",
    "\n",
    "#    ( .format ) builting FUNCTION"
   ]
  },
  {
   "cell_type": "code",
   "execution_count": null,
   "metadata": {},
   "outputs": [],
   "source": []
  }
 ],
 "metadata": {
  "kernelspec": {
   "display_name": "Python 3",
   "language": "python",
   "name": "python3"
  },
  "language_info": {
   "codemirror_mode": {
    "name": "ipython",
    "version": 3
   },
   "file_extension": ".py",
   "mimetype": "text/x-python",
   "name": "python",
   "nbconvert_exporter": "python",
   "pygments_lexer": "ipython3",
   "version": "3.7.4"
  }
 },
 "nbformat": 4,
 "nbformat_minor": 2
}
