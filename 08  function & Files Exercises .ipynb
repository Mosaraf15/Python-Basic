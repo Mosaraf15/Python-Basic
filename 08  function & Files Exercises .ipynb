{
 "cells": [
  {
   "cell_type": "code",
   "execution_count": 3,
   "metadata": {},
   "outputs": [],
   "source": [
    "\n",
    "\n",
    "def square(x):\n",
    "    return x**2"
   ]
  },
  {
   "cell_type": "code",
   "execution_count": 4,
   "metadata": {},
   "outputs": [
    {
     "name": "stdout",
     "output_type": "stream",
     "text": [
      "The number = 5\n",
      "The square of 5 is 25\n"
     ]
    }
   ],
   "source": [
    "a = int(input('The number = '))\n",
    "print ('The square of {} is {}'.format(a , square(a)))"
   ]
  },
  {
   "cell_type": "code",
   "execution_count": null,
   "metadata": {},
   "outputs": [],
   "source": []
  },
  {
   "cell_type": "code",
   "execution_count": null,
   "metadata": {},
   "outputs": [],
   "source": []
  },
  {
   "cell_type": "markdown",
   "metadata": {},
   "source": [
    "2. Write a function that takes 2 variable and obtain the summation and multiplacation \n",
    "   Then test the function by taking an input from a user (Repeat using LAMBDA Expressions)"
   ]
  },
  {
   "cell_type": "code",
   "execution_count": null,
   "metadata": {},
   "outputs": [],
   "source": []
  },
  {
   "cell_type": "code",
   "execution_count": null,
   "metadata": {},
   "outputs": [],
   "source": []
  },
  {
   "cell_type": "code",
   "execution_count": 2,
   "metadata": {},
   "outputs": [],
   "source": [
    "def Sum_Multi(x,y):\n",
    "    summation=x+y\n",
    "    multiply=x*y\n",
    "    return (summation,multiply)"
   ]
  },
  {
   "cell_type": "code",
   "execution_count": 4,
   "metadata": {},
   "outputs": [
    {
     "name": "stdout",
     "output_type": "stream",
     "text": [
      "Enter any integer = 5\n",
      "Enter another integer = 6\n",
      "Summation is  11 \n",
      "Multiplication is 30\n"
     ]
    }
   ],
   "source": [
    "a=int(input('Enter any integer = ') ) \n",
    "b=int(input('Enter another integer = ') ) \n",
    "\n",
    "result_sum , result_multi = Sum_Multi(a,b)\n",
    "\n",
    "print ('Summation is  {} \\nMultiplication is {}'.format(result_sum , result_multi))"
   ]
  },
  {
   "cell_type": "code",
   "execution_count": null,
   "metadata": {},
   "outputs": [],
   "source": []
  },
  {
   "cell_type": "markdown",
   "metadata": {},
   "source": [
    "USING  LAMBDA....  EXPRESSIONS"
   ]
  },
  {
   "cell_type": "code",
   "execution_count": 1,
   "metadata": {},
   "outputs": [
    {
     "name": "stdout",
     "output_type": "stream",
     "text": [
      "Enter any integer = 6\n",
      "Enter another integer = 7\n",
      "summation is 13 \n",
      "multiply is 42\n"
     ]
    }
   ],
   "source": [
    "a=int(input('Enter any integer = ') ) \n",
    "b=int(input('Enter another integer = ') ) \n",
    "\n",
    "summation = lambda x,y:x+y\n",
    "multiply = lambda x,y:x*y\n",
    "\n",
    "print('summation is {} \\nmultiply is {}'.format(summation(a,b),multiply(a,b)))"
   ]
  },
  {
   "cell_type": "code",
   "execution_count": null,
   "metadata": {},
   "outputs": [],
   "source": []
  },
  {
   "cell_type": "code",
   "execution_count": null,
   "metadata": {},
   "outputs": [],
   "source": []
  },
  {
   "cell_type": "markdown",
   "metadata": {},
   "source": [
    " Q 3 . Write a funcation that takes a variable and returns it's FACTORIAL"
   ]
  },
  {
   "cell_type": "code",
   "execution_count": null,
   "metadata": {},
   "outputs": [],
   "source": []
  },
  {
   "cell_type": "code",
   "execution_count": 1,
   "metadata": {},
   "outputs": [],
   "source": [
    "def factorial(x):\n",
    "    if x == 0:\n",
    "        return 1\n",
    "    return x*factorial(x-1)"
   ]
  },
  {
   "cell_type": "code",
   "execution_count": 2,
   "metadata": {},
   "outputs": [
    {
     "name": "stdout",
     "output_type": "stream",
     "text": [
      "Enter any integer = 4\n",
      "Factorial if 4 is 24\n"
     ]
    }
   ],
   "source": [
    "a=int(input('Enter any integer = ') )\n",
    "\n",
    "print ( 'Factorial if {} is {}'.format( a,factorial(a)))"
   ]
  },
  {
   "cell_type": "code",
   "execution_count": null,
   "metadata": {},
   "outputs": [],
   "source": []
  },
  {
   "cell_type": "code",
   "execution_count": null,
   "metadata": {},
   "outputs": [],
   "source": []
  },
  {
   "cell_type": "markdown",
   "metadata": {},
   "source": [
    "Q4 . Develop a script whose items are squares of the orginal list "
   ]
  },
  {
   "cell_type": "code",
   "execution_count": 3,
   "metadata": {},
   "outputs": [
    {
     "name": "stdout",
     "output_type": "stream",
     "text": [
      "[1, 4, 9, 16, 25, 36, 49, 64, 81, 100, 121, 144, 169, 196, 225, 256, 289, 324, 361, 400]\n"
     ]
    }
   ],
   "source": [
    "my_list = range(1,21)\n",
    "\n",
    "print ([x**2 for x in my_list])"
   ]
  },
  {
   "cell_type": "code",
   "execution_count": null,
   "metadata": {},
   "outputs": [],
   "source": []
  },
  {
   "cell_type": "code",
   "execution_count": null,
   "metadata": {},
   "outputs": [],
   "source": []
  },
  {
   "cell_type": "markdown",
   "metadata": {},
   "source": [
    "Q5 . Write a function that squares a variable and then test the function \n",
    "using a list of integer numbers RANGING from -20 to 20"
   ]
  },
  {
   "cell_type": "code",
   "execution_count": null,
   "metadata": {},
   "outputs": [],
   "source": []
  },
  {
   "cell_type": "code",
   "execution_count": 1,
   "metadata": {},
   "outputs": [
    {
     "name": "stdout",
     "output_type": "stream",
     "text": [
      "The square of the list range(-20, 20) is [400, 361, 324, 289, 256, 225, 196, 169, 144, 121, 100, 81, 64, 49, 36, 25, 16, 9, 4, 1, 0, 1, 4, 9, 16, 25, 36, 49, 64, 81, 100, 121, 144, 169, 196, 225, 256, 289, 324, 361] \n"
     ]
    }
   ],
   "source": [
    "def squared(x):\n",
    "    return (x*x)\n",
    "\n",
    "numbers = range (-20,20)\n",
    "\n",
    "num_square = list(map(lambda x : squared(x) , numbers))\n",
    "\n",
    "print ('The square of the list {} is {} '.format(numbers,num_square))"
   ]
  },
  {
   "cell_type": "code",
   "execution_count": null,
   "metadata": {},
   "outputs": [],
   "source": []
  },
  {
   "cell_type": "code",
   "execution_count": null,
   "metadata": {},
   "outputs": [],
   "source": []
  },
  {
   "cell_type": "markdown",
   "metadata": {},
   "source": [
    "Q6 . Write 3 functions that take RADIOUS of a CIRCULE and return the DIAMETER , AREA and CIRCUMFERENCE , test the function using an input form a user"
   ]
  },
  {
   "cell_type": "code",
   "execution_count": null,
   "metadata": {},
   "outputs": [],
   "source": []
  },
  {
   "cell_type": "code",
   "execution_count": null,
   "metadata": {},
   "outputs": [],
   "source": []
  },
  {
   "cell_type": "code",
   "execution_count": 18,
   "metadata": {},
   "outputs": [],
   "source": [
    "import math \n",
    "\n",
    "def circule_dia(radius):\n",
    "    return 2*radius\n",
    "\n",
    "def circule_area(radius):\n",
    "    return math.pi*radius**2\n",
    "\n",
    "def circule_cir(radius):\n",
    "    return 2*math.pi*radius"
   ]
  },
  {
   "cell_type": "code",
   "execution_count": 20,
   "metadata": {},
   "outputs": [
    {
     "name": "stdout",
     "output_type": "stream",
     "text": [
      "Enter a radius = 4\n",
      "Circule Diameter =  8\n",
      "Circule Area =  50.26548245743669\n",
      "Circule Circumference =  25.132741228718345\n"
     ]
    }
   ],
   "source": [
    "r = int(input('Enter a radius = '))\n",
    "\n",
    "print('Circule Diameter = ',circule_dia(r))\n",
    "print('Circule Area = ',circule_area(r))\n",
    "print('Circule Circumference = ',circule_cir(r))"
   ]
  },
  {
   "cell_type": "code",
   "execution_count": null,
   "metadata": {},
   "outputs": [],
   "source": []
  },
  {
   "cell_type": "code",
   "execution_count": null,
   "metadata": {},
   "outputs": [],
   "source": []
  },
  {
   "cell_type": "markdown",
   "metadata": {},
   "source": [
    "Q7 . Write a code that takes a RANGE from a user ( Upper and Lower Bound )      and Returns a list of Positive and Even numders ONLY"
   ]
  },
  {
   "cell_type": "code",
   "execution_count": null,
   "metadata": {},
   "outputs": [],
   "source": []
  },
  {
   "cell_type": "code",
   "execution_count": 2,
   "metadata": {},
   "outputs": [
    {
     "name": "stdout",
     "output_type": "stream",
     "text": [
      "Enter a lower bound -30\n",
      "Enter a upper bound 10\n",
      "[2, 4, 6, 8]\n"
     ]
    }
   ],
   "source": [
    "bound_min = int(input('Enter a lower bound '))\n",
    "bound_max = int(input('Enter a upper bound '))\n",
    "\n",
    "numbers = range(bound_min,bound_max)\n",
    "\n",
    "filtered_number = list(filter(lambda x: (x>0 and x%2==0) ,numbers))\n",
    "print(filtered_number)"
   ]
  },
  {
   "cell_type": "code",
   "execution_count": null,
   "metadata": {},
   "outputs": [],
   "source": []
  },
  {
   "cell_type": "code",
   "execution_count": null,
   "metadata": {},
   "outputs": [],
   "source": []
  },
  {
   "cell_type": "markdown",
   "metadata": {},
   "source": [
    "Q8 . Using Filter and Lambda Expression , Write a code That takes a List of Numbers below and returns EVEN numbers only"
   ]
  },
  {
   "cell_type": "code",
   "execution_count": null,
   "metadata": {},
   "outputs": [],
   "source": []
  },
  {
   "cell_type": "code",
   "execution_count": 4,
   "metadata": {},
   "outputs": [
    {
     "name": "stdout",
     "output_type": "stream",
     "text": [
      "[6, 22, 120, 220, 200]\n"
     ]
    }
   ],
   "source": [
    "numbers = [6,17,55,22,120,59,220,200,1]\n",
    "\n",
    "even_numbers = list(filter(lambda x:(x%2==0),numbers))\n",
    "\n",
    "print (even_numbers)"
   ]
  },
  {
   "cell_type": "code",
   "execution_count": null,
   "metadata": {},
   "outputs": [],
   "source": []
  },
  {
   "cell_type": "code",
   "execution_count": null,
   "metadata": {},
   "outputs": [],
   "source": []
  },
  {
   "cell_type": "markdown",
   "metadata": {},
   "source": [
    "Q9 . Write a Function That Takes Two NUMPY Matrices and Return The ADDITION , SUBTRACTION ,TRANsPOSE ,PRODUCT ,DOT PRODUCT"
   ]
  },
  {
   "cell_type": "code",
   "execution_count": null,
   "metadata": {},
   "outputs": [],
   "source": []
  },
  {
   "cell_type": "code",
   "execution_count": 21,
   "metadata": {},
   "outputs": [],
   "source": [
    "def matrix_operation(a,b):\n",
    "    print('Matrices addition = \\n ',np.add(a,b))\n",
    "    print('Matrices Subtract =  \\n',np.subtract(a,b))\n",
    "    print('Matrices multiply =  \\n',np.multiply(a,b))\n",
    "    print('Matrices Transpose =  \\n',a.T)\n",
    "    print('Matrices Transpose =  \\n',b.T)\n",
    "    print('Matrices DOT_MULTIPLi = \\n ',np.dot(a,b))\n",
    "    print('Matrices squre_rout = \\n',np.sqrt(a))"
   ]
  },
  {
   "cell_type": "code",
   "execution_count": 22,
   "metadata": {},
   "outputs": [
    {
     "name": "stdout",
     "output_type": "stream",
     "text": [
      "Matrices addition = \n",
      "  [[ 5 12]\n",
      " [ 9 12]]\n",
      "Matrices Subtract =  \n",
      " [[ 1  6]\n",
      " [ 7 -2]]\n",
      "Matrices multiply =  \n",
      " [[ 6 27]\n",
      " [ 8 35]]\n",
      "Matrices Transpose =  \n",
      " [[3 8]\n",
      " [9 5]]\n",
      "Matrices Transpose =  \n",
      " [[2 1]\n",
      " [3 7]]\n",
      "Matrices DOT_MULTIPLi = \n",
      "  [[15 72]\n",
      " [21 59]]\n",
      "Matrices squre_rout = \n",
      " [[1.73205081 3.        ]\n",
      " [2.82842712 2.23606798]]\n"
     ]
    }
   ],
   "source": [
    "import numpy as np\n",
    "\n",
    "x = np.array([[3,9],\n",
    "             [8,5]])\n",
    "\n",
    "y = np.array([[2,3],\n",
    "             [1,7]])\n",
    "\n",
    "matrix_operation(x,y)\n"
   ]
  },
  {
   "cell_type": "code",
   "execution_count": null,
   "metadata": {},
   "outputs": [],
   "source": []
  },
  {
   "cell_type": "code",
   "execution_count": null,
   "metadata": {},
   "outputs": [],
   "source": []
  },
  {
   "cell_type": "code",
   "execution_count": null,
   "metadata": {},
   "outputs": [],
   "source": []
  }
 ],
 "metadata": {
  "kernelspec": {
   "display_name": "Python 3",
   "language": "python",
   "name": "python3"
  },
  "language_info": {
   "codemirror_mode": {
    "name": "ipython",
    "version": 3
   },
   "file_extension": ".py",
   "mimetype": "text/x-python",
   "name": "python",
   "nbconvert_exporter": "python",
   "pygments_lexer": "ipython3",
   "version": "3.7.7"
  }
 },
 "nbformat": 4,
 "nbformat_minor": 4
}
