{
 "cells": [
  {
   "cell_type": "code",
   "execution_count": 1,
   "metadata": {},
   "outputs": [
    {
     "name": "stdout",
     "output_type": "stream",
     "text": [
      "True\n",
      "False\n"
     ]
    }
   ],
   "source": [
    "stu = ['shafeul', 'fahim','amraan','aly','labib']\n",
    "\n",
    "print('labib' in stu)\n",
    "print('johan'  in stu)"
   ]
  },
  {
   "cell_type": "code",
   "execution_count": 3,
   "metadata": {},
   "outputs": [
    {
     "name": "stdout",
     "output_type": "stream",
     "text": [
      "yes , He is studies here \n",
      "NO , He dosent studies here \n"
     ]
    }
   ],
   "source": [
    "if 'shafeul' in stu :\n",
    "    print('yes , He is studies here ')\n",
    "else : print('NO , He dosent studies here ')\n",
    "\n",
    "if 'johan'  in stu:\n",
    "    print ('yes , He is studies here ')\n",
    "else: print('NO , He dosent studies here ')"
   ]
  },
  {
   "cell_type": "code",
   "execution_count": 4,
   "metadata": {},
   "outputs": [],
   "source": [
    "# by the way : this also works for string"
   ]
  },
  {
   "cell_type": "code",
   "execution_count": 5,
   "metadata": {},
   "outputs": [
    {
     "name": "stdout",
     "output_type": "stream",
     "text": [
      "YES\n"
     ]
    }
   ],
   "source": [
    "\n",
    "sent = 'yes , He is studies here '\n",
    "\n",
    "if 'is' in sent: print ('YES')\n",
    "else: print (\"NO\")"
   ]
  },
  {
   "cell_type": "code",
   "execution_count": 6,
   "metadata": {},
   "outputs": [],
   "source": [
    "\n",
    "\n",
    "# MEMBERSHIP operator  .......................\n",
    "\n",
    "\n",
    "#   not   OPERATOR"
   ]
  },
  {
   "cell_type": "code",
   "execution_count": 8,
   "metadata": {},
   "outputs": [
    {
     "name": "stdout",
     "output_type": "stream",
     "text": [
      "executed\n",
      "executed\n"
     ]
    }
   ],
   "source": [
    "age = 25\n",
    "\n",
    "if not age>=30: print ('executed')\n",
    "\n",
    "if  age<30: print ('executed')"
   ]
  },
  {
   "cell_type": "code",
   "execution_count": 9,
   "metadata": {},
   "outputs": [],
   "source": [
    "\n",
    "# (  not in )..................operator\n"
   ]
  },
  {
   "cell_type": "code",
   "execution_count": 10,
   "metadata": {},
   "outputs": [
    {
     "name": "stdout",
     "output_type": "stream",
     "text": [
      " He is in list\n"
     ]
    }
   ],
   "source": [
    "stu = ['shafeul', 'fahim','amraan','aly','labib']\n",
    "\n",
    "if 'amraan' not in stu: \n",
    "    print (' He is not in list ')\n",
    "else: print(' He is in list')"
   ]
  },
  {
   "cell_type": "code",
   "execution_count": 11,
   "metadata": {},
   "outputs": [
    {
     "name": "stdout",
     "output_type": "stream",
     "text": [
      " He is in list\n"
     ]
    }
   ],
   "source": [
    "if not 'amraan'in stu: \n",
    "    print (' He is not in list ')\n",
    "else: print(' He is in list')"
   ]
  },
  {
   "cell_type": "code",
   "execution_count": 12,
   "metadata": {},
   "outputs": [
    {
     "name": "stdout",
     "output_type": "stream",
     "text": [
      " Its TRUE\n"
     ]
    }
   ],
   "source": [
    "if True and not(False):\n",
    "    print (' Its TRUE')"
   ]
  },
  {
   "cell_type": "code",
   "execution_count": 13,
   "metadata": {},
   "outputs": [
    {
     "name": "stdout",
     "output_type": "stream",
     "text": [
      " Its TRUE\n"
     ]
    }
   ],
   "source": [
    "if True or not(False):\n",
    "    print (' Its TRUE')"
   ]
  },
  {
   "cell_type": "code",
   "execution_count": 32,
   "metadata": {
    "scrolled": true
   },
   "outputs": [
    {
     "name": "stdout",
     "output_type": "stream",
     "text": [
      " Enter your ID = ET171055\n",
      " EEE depertment ................\n",
      " Enter your passward : 123456\n",
      " Md. Mosharaf Hossain Khan  \n"
     ]
    }
   ],
   "source": [
    "ID = input(' Enter your ID = ')\n",
    "\n",
    "\n",
    "if 'ET' in ID:\n",
    "    print (' EEE depertment ................')\n",
    "    passward = input(' Enter your passward : ')\n",
    "    \n",
    "if '123456' in passward and ID == 'ET171055':\n",
    "    print (' Md. Mosharaf Hossain Khan  ')\n",
    "else : print (' incurrate passward  ********')\n",
    "    \n",
    "\n",
    "    "
   ]
  },
  {
   "cell_type": "code",
   "execution_count": 33,
   "metadata": {},
   "outputs": [
    {
     "name": "stdout",
     "output_type": "stream",
     "text": [
      " Enter your ID = ET171055\n",
      " EEE depertment ................\n",
      " Enter your passward : 123456\n",
      " Md. Mosharaf Hossain Khan  \n"
     ]
    }
   ],
   "source": [
    "ID = input(' Enter your ID = ')\n",
    "\n",
    "\n",
    "if 'ET' in ID:\n",
    "    print (' EEE depertment ................')\n",
    "    passward = input(' Enter your passward : ')\n",
    "    \n",
    "    \n",
    "    \n",
    "if '123456' in passward and 'ET171055' in ID:\n",
    "    print (' Md. Mosharaf Hossain Khan  ')\n",
    "else : print (' incurrate passward  ********')\n",
    "    \n",
    "    "
   ]
  },
  {
   "cell_type": "code",
   "execution_count": 36,
   "metadata": {},
   "outputs": [],
   "source": [
    "\n",
    "# EXERCISES QUESTION........................\n",
    "#  IMPORTENT ................. Inforemation  herE\n",
    "\n"
   ]
  },
  {
   "cell_type": "code",
   "execution_count": 37,
   "metadata": {},
   "outputs": [],
   "source": [
    "#  Write a code that takes a NUMBER  from user and compare it to a RENDOMLY \n",
    "#   GENERATED value . And states that which one is LARGER / SMALLER\n",
    "\n",
    "\n",
    "#  here we IMPORT      ..... (random)  builtin function \n",
    "\n",
    "#    import random\n",
    "#    comp = random.randint(1,200)...............any 2 number \n",
    "\n",
    "#  ONE importent INFORMATION is    use   print (' nunber is {}'.format(variable))\n",
    "\n",
    "#    ( .format ) builting FUNCTION"
   ]
  },
  {
   "cell_type": "code",
   "execution_count": 2,
   "metadata": {},
   "outputs": [
    {
     "name": "stdout",
     "output_type": "stream",
     "text": [
      "Enter a number between 1 & 100 = 77\n",
      "value you entered is 77  and  generated value is 63\n",
      "Enter value is greater then generated value \n"
     ]
    }
   ],
   "source": [
    "user = int(input('Enter a number between 1 & 100 = '))\n",
    "\n",
    "import random            # to generated  random number ...........\n",
    "comp=random.randint(1,100)     \n",
    "\n",
    "\n",
    "\n",
    "print ('value you entered is {}  and  generated value is {}'.format(user,comp))\n",
    "\n",
    "\n",
    "\n",
    "# compare  the number \n",
    "if user>comp:\n",
    "    print ('Enter value is greater then generated value ')\n",
    "    \n",
    "elif user == comp :\n",
    "    print('Enter value is equal  then generated value ')\n",
    "    \n",
    "else :\n",
    "    print('Enter value is smaller  then generated value ')\n",
    "    \n",
    "    "
   ]
  },
  {
   "cell_type": "code",
   "execution_count": null,
   "metadata": {},
   "outputs": [],
   "source": [
    "\n"
   ]
  },
  {
   "cell_type": "markdown",
   "metadata": {},
   "source": [
    "Write  a code it generate a random number -100 t0 100  & indicates if it is +/-"
   ]
  },
  {
   "cell_type": "code",
   "execution_count": null,
   "metadata": {},
   "outputs": [],
   "source": []
  },
  {
   "cell_type": "code",
   "execution_count": 7,
   "metadata": {},
   "outputs": [
    {
     "name": "stdout",
     "output_type": "stream",
     "text": [
      "generated value is 18\n",
      " generated value is positive\n"
     ]
    }
   ],
   "source": [
    "import random     # to generated  random number ...........\n",
    "gene_num=random.randint(-100,100)\n",
    "\n",
    "print ('generated value is {}'.format(gene_num))\n",
    "\n",
    "\n",
    "# compare  the number \n",
    "if gene_num>0 :\n",
    "    print (' generated value is positive')\n",
    "    \n",
    "elif gene_num<0 :\n",
    "    print(' generated value is negative ')\n",
    "    \n",
    "else :\n",
    "    print(' generated value is ZERO ')"
   ]
  },
  {
   "cell_type": "code",
   "execution_count": 30,
   "metadata": {},
   "outputs": [
    {
     "name": "stdout",
     "output_type": "stream",
     "text": [
      "requirment not satisfy\n"
     ]
    }
   ],
   "source": [
    "if (gene_num % 5==0)and(gene_num % 7 !=0):\n",
    "    print ('generated number is Divisible by 5 & NOT multiple of 7')\n",
    "else :\n",
    "     print ('requirment not satisfy')\n",
    "        "
   ]
  },
  {
   "cell_type": "code",
   "execution_count": null,
   "metadata": {},
   "outputs": [],
   "source": []
  }
 ],
 "metadata": {
  "kernelspec": {
   "display_name": "Python 3",
   "language": "python",
   "name": "python3"
  },
  "language_info": {
   "codemirror_mode": {
    "name": "ipython",
    "version": 3
   },
   "file_extension": ".py",
   "mimetype": "text/x-python",
   "name": "python",
   "nbconvert_exporter": "python",
   "pygments_lexer": "ipython3",
   "version": "3.7.7"
  }
 },
 "nbformat": 4,
 "nbformat_minor": 4
}
