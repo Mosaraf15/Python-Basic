{
 "cells": [
  {
   "cell_type": "markdown",
   "metadata": {},
   "source": [
    "Creating lists of terms for our Tweets\n",
    "\n"
   ]
  },
  {
   "cell_type": "code",
   "execution_count": 25,
   "metadata": {},
   "outputs": [],
   "source": [
    "part1= ['Putin,','Hillary,','Obama,','Salman Bin Abdulla,','Kim jon Ung,','Shi Zin Ping,','Modi,']\n",
    "part2= ['no talent, ','on the way down, ','really poor number, ','nasty tone, ','looking like a fool, ','bad homder, ']\n",
    "part3= ['got destroyed by my ratings .','rigged the election .','had a much smaller crowd .','will pay for the world .']\n",
    "part4= ['so sad','Apologize','so true','Media wont report','big trouble','Fantastic job','stay tuned']"
   ]
  },
  {
   "cell_type": "markdown",
   "metadata": {},
   "source": [
    "Creating a lists  of  lists"
   ]
  },
  {
   "cell_type": "code",
   "execution_count": 2,
   "metadata": {},
   "outputs": [],
   "source": [
    "tweets_word=[part1,part2,part3,part4]"
   ]
  },
  {
   "cell_type": "code",
   "execution_count": null,
   "metadata": {},
   "outputs": [],
   "source": []
  },
  {
   "cell_type": "code",
   "execution_count": null,
   "metadata": {},
   "outputs": [],
   "source": []
  },
  {
   "cell_type": "markdown",
   "metadata": {},
   "source": [
    "inatial Basic"
   ]
  },
  {
   "cell_type": "code",
   "execution_count": 4,
   "metadata": {},
   "outputs": [
    {
     "name": "stdout",
     "output_type": "stream",
     "text": [
      "8\n",
      "6\n",
      "4\n",
      "7\n"
     ]
    }
   ],
   "source": [
    "import random\n",
    "\n",
    "for i in tweets_word:\n",
    "    print(len(i))"
   ]
  },
  {
   "cell_type": "code",
   "execution_count": 10,
   "metadata": {},
   "outputs": [
    {
     "name": "stdout",
     "output_type": "stream",
     "text": [
      "8\n",
      "['Putin', 'Hillary', 'Obama', 'Salman Bin Abdulla', 'Kim jon Ung', 'Shi Zin Ping', 'Modi', 'Justin Toddu']\n",
      "2\n",
      "6\n",
      "['no talent', 'on the way down', 'really poor number', 'nasty tone', 'looking like a fool', 'bad homder']\n",
      "0\n",
      "4\n",
      "['got destroyed by my ratings', 'rigged the election', 'had a much smaller crowd', 'will pay for the wall']\n",
      "1\n",
      "7\n",
      "['so sad', 'Apologize', 'so true', 'Media wont report', 'big trouble', 'Fantastic job', 'stay tuned']\n",
      "5\n"
     ]
    }
   ],
   "source": [
    "import random\n",
    "\n",
    "for i in tweets_word:\n",
    "    print(len(i))\n",
    "    r = random.randint(0,len(i)-1)\n",
    "    print(i)\n",
    "    print(r)"
   ]
  },
  {
   "cell_type": "code",
   "execution_count": 16,
   "metadata": {},
   "outputs": [
    {
     "name": "stdout",
     "output_type": "stream",
     "text": [
      "Kim jon Ung\n"
     ]
    },
    {
     "ename": "IndexError",
     "evalue": "list index out of range",
     "output_type": "error",
     "traceback": [
      "\u001b[1;31m---------------------------------------------------------------------------\u001b[0m",
      "\u001b[1;31mIndexError\u001b[0m                                Traceback (most recent call last)",
      "\u001b[1;32m<ipython-input-16-6d1f9f6bfb99>\u001b[0m in \u001b[0;36m<module>\u001b[1;34m\u001b[0m\n\u001b[0;32m      3\u001b[0m \u001b[1;32mfor\u001b[0m \u001b[0mi\u001b[0m \u001b[1;32min\u001b[0m \u001b[0mtweets_word\u001b[0m\u001b[1;33m:\u001b[0m\u001b[1;33m\u001b[0m\u001b[1;33m\u001b[0m\u001b[0m\n\u001b[0;32m      4\u001b[0m     \u001b[0mr\u001b[0m \u001b[1;33m=\u001b[0m \u001b[0mrandom\u001b[0m\u001b[1;33m.\u001b[0m\u001b[0mrandint\u001b[0m\u001b[1;33m(\u001b[0m\u001b[1;36m0\u001b[0m\u001b[1;33m,\u001b[0m\u001b[0mlen\u001b[0m\u001b[1;33m(\u001b[0m\u001b[0mi\u001b[0m\u001b[1;33m)\u001b[0m\u001b[1;33m)\u001b[0m\u001b[1;33m\u001b[0m\u001b[1;33m\u001b[0m\u001b[0m\n\u001b[1;32m----> 5\u001b[1;33m     \u001b[0mprint\u001b[0m\u001b[1;33m(\u001b[0m\u001b[0mi\u001b[0m\u001b[1;33m[\u001b[0m\u001b[0mr\u001b[0m\u001b[1;33m]\u001b[0m\u001b[1;33m)\u001b[0m\u001b[1;33m\u001b[0m\u001b[1;33m\u001b[0m\u001b[0m\n\u001b[0m",
      "\u001b[1;31mIndexError\u001b[0m: list index out of range"
     ]
    }
   ],
   "source": [
    "import random\n",
    "\n",
    "for i in tweets_word:\n",
    "    r = random.randint(0,len(i))\n",
    "    print(i[r])"
   ]
  },
  {
   "cell_type": "code",
   "execution_count": 17,
   "metadata": {},
   "outputs": [
    {
     "name": "stdout",
     "output_type": "stream",
     "text": [
      "Kim jon Ung\n",
      "really poor number\n",
      "rigged the election\n",
      "Media wont report\n"
     ]
    }
   ],
   "source": [
    "import random\n",
    "\n",
    "for i in tweets_word:\n",
    "    r = random.randint(0,len(i)-1)\n",
    "    print(i[r])"
   ]
  },
  {
   "cell_type": "code",
   "execution_count": null,
   "metadata": {},
   "outputs": [],
   "source": []
  },
  {
   "cell_type": "code",
   "execution_count": null,
   "metadata": {},
   "outputs": [],
   "source": []
  },
  {
   "cell_type": "markdown",
   "metadata": {},
   "source": [
    "Building the Tweet Generator"
   ]
  },
  {
   "cell_type": "code",
   "execution_count": 19,
   "metadata": {},
   "outputs": [
    {
     "name": "stdout",
     "output_type": "stream",
     "text": [
      "Salman Bin Abdulla\n",
      "Salman Bin Abdulla looking like a fool\n",
      "Salman Bin Abdulla looking like a fool had a much smaller crowd\n",
      "Salman Bin Abdulla looking like a fool had a much smaller crowd Media wont report\n"
     ]
    }
   ],
   "source": [
    "import random\n",
    "\n",
    "tweets = []\n",
    "\n",
    "for i in tweets_word:\n",
    "    r = random.randint(0,len(i)-1)\n",
    "    tweets.append(i[r])\n",
    "    print(' '.join(tweets))"
   ]
  },
  {
   "cell_type": "code",
   "execution_count": 26,
   "metadata": {},
   "outputs": [
    {
     "name": "stdout",
     "output_type": "stream",
     "text": [
      "Salman Bin Abdulla no talent will pay for the wall so true\n"
     ]
    }
   ],
   "source": [
    "import random\n",
    "\n",
    "tweets = []\n",
    "\n",
    "for i in tweets_word:\n",
    "    r = random.randint(0,len(i)-1)\n",
    "    tweets.append(i[r])\n",
    "    \n",
    "print(' '.join(tweets))\n"
   ]
  },
  {
   "cell_type": "code",
   "execution_count": null,
   "metadata": {},
   "outputs": [],
   "source": []
  },
  {
   "cell_type": "code",
   "execution_count": null,
   "metadata": {},
   "outputs": [],
   "source": []
  },
  {
   "cell_type": "markdown",
   "metadata": {},
   "source": [
    "# fresh code is here........below\n",
    "\n",
    "\n"
   ]
  },
  {
   "cell_type": "code",
   "execution_count": null,
   "metadata": {},
   "outputs": [],
   "source": []
  },
  {
   "cell_type": "markdown",
   "metadata": {},
   "source": [
    "Creating lists of terms for our Tweets"
   ]
  },
  {
   "cell_type": "code",
   "execution_count": 27,
   "metadata": {},
   "outputs": [],
   "source": [
    "part1= ['Putin,','Hillary,','Obama,','Salman Bin Abdulla,','Kim jon Ung,','Shi Zin Ping,','Modi,']\n",
    "part2= ['no talent, ','on the way down, ','really poor number, ','nasty tone, ','looking like a fool, ','bad homder, ']\n",
    "part3= ['got destroyed by my ratings .','rigged the election .','had a much smaller crowd .','will pay for the world .']\n",
    "part4= ['so sad','Apologize','so true','Media wont report','big trouble','Fantastic job','stay tuned']"
   ]
  },
  {
   "cell_type": "code",
   "execution_count": null,
   "metadata": {},
   "outputs": [],
   "source": []
  },
  {
   "cell_type": "markdown",
   "metadata": {},
   "source": [
    "Creating a lists of lists"
   ]
  },
  {
   "cell_type": "code",
   "execution_count": 28,
   "metadata": {},
   "outputs": [],
   "source": [
    "tweets_word=[part1,part2,part3,part4]"
   ]
  },
  {
   "cell_type": "code",
   "execution_count": null,
   "metadata": {},
   "outputs": [],
   "source": []
  },
  {
   "cell_type": "markdown",
   "metadata": {},
   "source": [
    "Building the Tweet Generator"
   ]
  },
  {
   "cell_type": "code",
   "execution_count": 30,
   "metadata": {},
   "outputs": [
    {
     "name": "stdout",
     "output_type": "stream",
     "text": [
      "Modi, really poor number,  will pay for the world . Apologize !\n"
     ]
    }
   ],
   "source": [
    "import random\n",
    "\n",
    "tweets = []\n",
    "\n",
    "for i in tweets_word:\n",
    "    r = random.randint(0,len(i)-1)\n",
    "    tweets.append(i[r])\n",
    "    \n",
    "print(' '.join(tweets)+' !')"
   ]
  },
  {
   "cell_type": "code",
   "execution_count": null,
   "metadata": {},
   "outputs": [],
   "source": []
  }
 ],
 "metadata": {
  "kernelspec": {
   "display_name": "Python 3",
   "language": "python",
   "name": "python3"
  },
  "language_info": {
   "codemirror_mode": {
    "name": "ipython",
    "version": 3
   },
   "file_extension": ".py",
   "mimetype": "text/x-python",
   "name": "python",
   "nbconvert_exporter": "python",
   "pygments_lexer": "ipython3",
   "version": "3.7.7"
  }
 },
 "nbformat": 4,
 "nbformat_minor": 4
}
